{
  "nbformat": 4,
  "nbformat_minor": 0,
  "metadata": {
    "colab": {
      "provenance": []
    },
    "kernelspec": {
      "name": "python3",
      "display_name": "Python 3"
    },
    "language_info": {
      "name": "python"
    }
  },
  "cells": [
    {
      "cell_type": "markdown",
      "source": [
        "### **Experiment-3**\n",
        "### Apply any of the following learning algorithms to learn the parameters of the supervised single layer feed forward neural network.\n",
        "\n",
        "### o   Stochastic Gradient Descent\n",
        "\n",
        "### o   Mini Batch Gradient Descent\n",
        "\n",
        "### o   Momentum GD\n",
        "\n",
        "### o   Nestorev GD\n",
        "\n",
        "### o   Adagrad GD\n",
        "\n",
        "### o   Adam Learning GD"
      ],
      "metadata": {
        "id": "CqRv2UNcdOuB"
      }
    },
    {
      "cell_type": "code",
      "execution_count": null,
      "metadata": {
        "id": "wguwLwYecBH3"
      },
      "outputs": [],
      "source": [
        "import numpy as np\n",
        "import tensorflow as tf\n",
        "from tensorflow.keras.models import Sequential\n",
        "from tensorflow.keras.layers import Dense\n",
        "from tensorflow.keras.optimizers import SGD, Adam , Adagrad\n",
        "from tensorflow.keras.datasets import mnist\n",
        "from sklearn.preprocessing import StandardScaler\n",
        "from sklearn.metrics import accuracy_score"
      ]
    },
    {
      "cell_type": "code",
      "source": [
        "(X_train, y_train), (X_test, y_test) = mnist.load_data()\n",
        "\n",
        "# Preprocess data\n",
        "# Flatten images to vectors of size 784 (28x28)\n",
        "X_train = X_train.reshape(-1, 28*28).astype('float32') / 255\n",
        "X_test = X_test.reshape(-1, 28*28).astype('float32') / 255\n",
        "\n",
        "# One-hot encode the labels\n",
        "y_train = tf.keras.utils.to_categorical(y_train, 10)\n",
        "y_test = tf.keras.utils.to_categorical(y_test, 10)"
      ],
      "metadata": {
        "colab": {
          "base_uri": "https://localhost:8080/"
        },
        "id": "e2Mh3xSZcOHC",
        "outputId": "30f0f18c-5f1b-476c-8fa7-46e0772b9e4f"
      },
      "execution_count": null,
      "outputs": [
        {
          "output_type": "stream",
          "name": "stdout",
          "text": [
            "Downloading data from https://storage.googleapis.com/tensorflow/tf-keras-datasets/mnist.npz\n",
            "\u001b[1m11490434/11490434\u001b[0m \u001b[32m━━━━━━━━━━━━━━━━━━━━\u001b[0m\u001b[37m\u001b[0m \u001b[1m1s\u001b[0m 0us/step\n"
          ]
        }
      ]
    },
    {
      "cell_type": "markdown",
      "source": [
        "## Stochastic Gradient Descent (SGD)"
      ],
      "metadata": {
        "id": "jDtZuXYzcgE5"
      }
    },
    {
      "cell_type": "code",
      "source": [
        "model = Sequential()\n",
        "model.add(Dense(units=64, activation='relu', input_shape=(28*28,)))\n",
        "model.add(Dense(units=10, activation='softmax'))\n",
        "model.compile(optimizer=SGD(), loss='categorical_crossentropy', metrics=['accuracy'])"
      ],
      "metadata": {
        "id": "cRTTWeGycPuw"
      },
      "execution_count": null,
      "outputs": []
    },
    {
      "cell_type": "code",
      "source": [
        "history = model.fit(X_train, y_train, epochs=11 , validation_split=0.2, verbose=1)\n",
        "loss, accuracy = model.evaluate(X_test, y_test, verbose=0)"
      ],
      "metadata": {
        "colab": {
          "base_uri": "https://localhost:8080/"
        },
        "id": "BjOOM73JcXsY",
        "outputId": "44369257-0104-464b-ab2c-bd4ff46b52d6"
      },
      "execution_count": null,
      "outputs": [
        {
          "output_type": "stream",
          "name": "stdout",
          "text": [
            "Epoch 1/11\n",
            "\u001b[1m1500/1500\u001b[0m \u001b[32m━━━━━━━━━━━━━━━━━━━━\u001b[0m\u001b[37m\u001b[0m \u001b[1m4s\u001b[0m 2ms/step - accuracy: 0.6790 - loss: 1.1827 - val_accuracy: 0.8978 - val_loss: 0.3910\n",
            "Epoch 2/11\n",
            "\u001b[1m1500/1500\u001b[0m \u001b[32m━━━━━━━━━━━━━━━━━━━━\u001b[0m\u001b[37m\u001b[0m \u001b[1m3s\u001b[0m 2ms/step - accuracy: 0.8911 - loss: 0.3965 - val_accuracy: 0.9153 - val_loss: 0.3164\n",
            "Epoch 3/11\n",
            "\u001b[1m1500/1500\u001b[0m \u001b[32m━━━━━━━━━━━━━━━━━━━━\u001b[0m\u001b[37m\u001b[0m \u001b[1m7s\u001b[0m 3ms/step - accuracy: 0.9068 - loss: 0.3303 - val_accuracy: 0.9220 - val_loss: 0.2845\n",
            "Epoch 4/11\n",
            "\u001b[1m1500/1500\u001b[0m \u001b[32m━━━━━━━━━━━━━━━━━━━━\u001b[0m\u001b[37m\u001b[0m \u001b[1m4s\u001b[0m 3ms/step - accuracy: 0.9181 - loss: 0.2913 - val_accuracy: 0.9244 - val_loss: 0.2672\n",
            "Epoch 5/11\n",
            "\u001b[1m1500/1500\u001b[0m \u001b[32m━━━━━━━━━━━━━━━━━━━━\u001b[0m\u001b[37m\u001b[0m \u001b[1m4s\u001b[0m 2ms/step - accuracy: 0.9247 - loss: 0.2701 - val_accuracy: 0.9316 - val_loss: 0.2468\n",
            "Epoch 6/11\n",
            "\u001b[1m1500/1500\u001b[0m \u001b[32m━━━━━━━━━━━━━━━━━━━━\u001b[0m\u001b[37m\u001b[0m \u001b[1m6s\u001b[0m 4ms/step - accuracy: 0.9279 - loss: 0.2528 - val_accuracy: 0.9358 - val_loss: 0.2331\n",
            "Epoch 7/11\n",
            "\u001b[1m1500/1500\u001b[0m \u001b[32m━━━━━━━━━━━━━━━━━━━━\u001b[0m\u001b[37m\u001b[0m \u001b[1m3s\u001b[0m 2ms/step - accuracy: 0.9327 - loss: 0.2387 - val_accuracy: 0.9379 - val_loss: 0.2207\n",
            "Epoch 8/11\n",
            "\u001b[1m1500/1500\u001b[0m \u001b[32m━━━━━━━━━━━━━━━━━━━━\u001b[0m\u001b[37m\u001b[0m \u001b[1m5s\u001b[0m 2ms/step - accuracy: 0.9358 - loss: 0.2251 - val_accuracy: 0.9399 - val_loss: 0.2129\n",
            "Epoch 9/11\n",
            "\u001b[1m1500/1500\u001b[0m \u001b[32m━━━━━━━━━━━━━━━━━━━━\u001b[0m\u001b[37m\u001b[0m \u001b[1m6s\u001b[0m 3ms/step - accuracy: 0.9415 - loss: 0.2137 - val_accuracy: 0.9445 - val_loss: 0.2024\n",
            "Epoch 10/11\n",
            "\u001b[1m1500/1500\u001b[0m \u001b[32m━━━━━━━━━━━━━━━━━━━━\u001b[0m\u001b[37m\u001b[0m \u001b[1m4s\u001b[0m 2ms/step - accuracy: 0.9412 - loss: 0.2052 - val_accuracy: 0.9454 - val_loss: 0.1954\n",
            "Epoch 11/11\n",
            "\u001b[1m1500/1500\u001b[0m \u001b[32m━━━━━━━━━━━━━━━━━━━━\u001b[0m\u001b[37m\u001b[0m \u001b[1m6s\u001b[0m 3ms/step - accuracy: 0.9477 - loss: 0.1875 - val_accuracy: 0.9482 - val_loss: 0.1877\n"
          ]
        }
      ]
    },
    {
      "cell_type": "code",
      "source": [
        "print(f\"Stochastic gradient descent optimizer accuracy: {accuracy:.4f}\")"
      ],
      "metadata": {
        "colab": {
          "base_uri": "https://localhost:8080/"
        },
        "id": "g5AJVCw3cl8j",
        "outputId": "1a06e1c8-01d3-4b5e-d322-9f766a850b05"
      },
      "execution_count": null,
      "outputs": [
        {
          "output_type": "stream",
          "name": "stdout",
          "text": [
            "Stochastic gradient descent optimizer accuracy: 0.9472\n"
          ]
        }
      ]
    },
    {
      "cell_type": "markdown",
      "source": [
        "## Momentum based Stochastic Gradient Descent"
      ],
      "metadata": {
        "id": "tCHyUT-0cn5P"
      }
    },
    {
      "cell_type": "code",
      "source": [
        "model = Sequential()\n",
        "model.add(Dense(units=64, activation='relu', input_shape=(28*28,)))\n",
        "model.add(Dense(units=10, activation='softmax'))\n",
        "model.compile(optimizer=SGD(momentum =0.9), loss='categorical_crossentropy', metrics=['accuracy'])"
      ],
      "metadata": {
        "id": "V66jbt_NcpMQ"
      },
      "execution_count": null,
      "outputs": []
    },
    {
      "cell_type": "code",
      "source": [
        "history = model.fit(X_train, y_train, epochs=11 , validation_split=0.2, verbose=1)\n",
        "loss, accuracy = model.evaluate(X_test, y_test, verbose=0)"
      ],
      "metadata": {
        "colab": {
          "base_uri": "https://localhost:8080/"
        },
        "id": "z1bi00D_ctE6",
        "outputId": "c2d0f92a-0062-4b3e-8345-503f41df2ed7"
      },
      "execution_count": null,
      "outputs": [
        {
          "output_type": "stream",
          "name": "stdout",
          "text": [
            "Epoch 1/11\n",
            "\u001b[1m1500/1500\u001b[0m \u001b[32m━━━━━━━━━━━━━━━━━━━━\u001b[0m\u001b[37m\u001b[0m \u001b[1m5s\u001b[0m 3ms/step - accuracy: 0.8283 - loss: 0.5692 - val_accuracy: 0.9396 - val_loss: 0.2094\n",
            "Epoch 2/11\n",
            "\u001b[1m1500/1500\u001b[0m \u001b[32m━━━━━━━━━━━━━━━━━━━━\u001b[0m\u001b[37m\u001b[0m \u001b[1m5s\u001b[0m 2ms/step - accuracy: 0.9470 - loss: 0.1836 - val_accuracy: 0.9557 - val_loss: 0.1547\n",
            "Epoch 3/11\n",
            "\u001b[1m1500/1500\u001b[0m \u001b[32m━━━━━━━━━━━━━━━━━━━━\u001b[0m\u001b[37m\u001b[0m \u001b[1m7s\u001b[0m 4ms/step - accuracy: 0.9618 - loss: 0.1333 - val_accuracy: 0.9645 - val_loss: 0.1255\n",
            "Epoch 4/11\n",
            "\u001b[1m1500/1500\u001b[0m \u001b[32m━━━━━━━━━━━━━━━━━━━━\u001b[0m\u001b[37m\u001b[0m \u001b[1m4s\u001b[0m 2ms/step - accuracy: 0.9696 - loss: 0.1043 - val_accuracy: 0.9660 - val_loss: 0.1163\n",
            "Epoch 5/11\n",
            "\u001b[1m1500/1500\u001b[0m \u001b[32m━━━━━━━━━━━━━━━━━━━━\u001b[0m\u001b[37m\u001b[0m \u001b[1m4s\u001b[0m 2ms/step - accuracy: 0.9750 - loss: 0.0842 - val_accuracy: 0.9657 - val_loss: 0.1127\n",
            "Epoch 6/11\n",
            "\u001b[1m1500/1500\u001b[0m \u001b[32m━━━━━━━━━━━━━━━━━━━━\u001b[0m\u001b[37m\u001b[0m \u001b[1m6s\u001b[0m 4ms/step - accuracy: 0.9777 - loss: 0.0770 - val_accuracy: 0.9692 - val_loss: 0.1077\n",
            "Epoch 7/11\n",
            "\u001b[1m1500/1500\u001b[0m \u001b[32m━━━━━━━━━━━━━━━━━━━━\u001b[0m\u001b[37m\u001b[0m \u001b[1m8s\u001b[0m 2ms/step - accuracy: 0.9805 - loss: 0.0669 - val_accuracy: 0.9707 - val_loss: 0.1014\n",
            "Epoch 8/11\n",
            "\u001b[1m1500/1500\u001b[0m \u001b[32m━━━━━━━━━━━━━━━━━━━━\u001b[0m\u001b[37m\u001b[0m \u001b[1m7s\u001b[0m 4ms/step - accuracy: 0.9831 - loss: 0.0577 - val_accuracy: 0.9712 - val_loss: 0.0987\n",
            "Epoch 9/11\n",
            "\u001b[1m1500/1500\u001b[0m \u001b[32m━━━━━━━━━━━━━━━━━━━━\u001b[0m\u001b[37m\u001b[0m \u001b[1m8s\u001b[0m 2ms/step - accuracy: 0.9852 - loss: 0.0523 - val_accuracy: 0.9699 - val_loss: 0.1020\n",
            "Epoch 10/11\n",
            "\u001b[1m1500/1500\u001b[0m \u001b[32m━━━━━━━━━━━━━━━━━━━━\u001b[0m\u001b[37m\u001b[0m \u001b[1m6s\u001b[0m 3ms/step - accuracy: 0.9860 - loss: 0.0491 - val_accuracy: 0.9704 - val_loss: 0.0981\n",
            "Epoch 11/11\n",
            "\u001b[1m1500/1500\u001b[0m \u001b[32m━━━━━━━━━━━━━━━━━━━━\u001b[0m\u001b[37m\u001b[0m \u001b[1m4s\u001b[0m 2ms/step - accuracy: 0.9882 - loss: 0.0399 - val_accuracy: 0.9714 - val_loss: 0.0989\n"
          ]
        }
      ]
    },
    {
      "cell_type": "code",
      "source": [
        "print(f\"Momentum based Gradient Descent optimizer accuracy: {accuracy:.4f}\")"
      ],
      "metadata": {
        "colab": {
          "base_uri": "https://localhost:8080/"
        },
        "id": "kmP_mRzLctlh",
        "outputId": "d5499eb6-2e6f-4eb9-985f-8d6c6de532a2"
      },
      "execution_count": null,
      "outputs": [
        {
          "output_type": "stream",
          "name": "stdout",
          "text": [
            "Momentum based Gradient Descent optimizer accuracy: 0.9736\n"
          ]
        }
      ]
    },
    {
      "cell_type": "markdown",
      "source": [
        "## AdaGrad(Adaptive Gradient descent)"
      ],
      "metadata": {
        "id": "HvDQBzXuczn5"
      }
    },
    {
      "cell_type": "code",
      "source": [
        "model = Sequential()\n",
        "model.add(Dense(units=64, activation='relu', input_shape=(28*28,)))\n",
        "model.add(Dense(units=10, activation='softmax'))\n",
        "model.compile(optimizer=Adagrad(), loss='categorical_crossentropy', metrics=['accuracy'])"
      ],
      "metadata": {
        "id": "6ZveeQLTc2fi"
      },
      "execution_count": null,
      "outputs": []
    },
    {
      "cell_type": "code",
      "source": [
        "history = model.fit(X_train, y_train, epochs=11 , validation_split=0.2, verbose=1)\n",
        "loss, accuracy = model.evaluate(X_test, y_test, verbose=0)"
      ],
      "metadata": {
        "colab": {
          "base_uri": "https://localhost:8080/"
        },
        "id": "WricvpkIc5Xw",
        "outputId": "9ac0e3d7-c4e0-48aa-f09b-35804d54290c"
      },
      "execution_count": null,
      "outputs": [
        {
          "output_type": "stream",
          "name": "stdout",
          "text": [
            "Epoch 1/11\n",
            "\u001b[1m1500/1500\u001b[0m \u001b[32m━━━━━━━━━━━━━━━━━━━━\u001b[0m\u001b[37m\u001b[0m \u001b[1m6s\u001b[0m 4ms/step - accuracy: 0.5283 - loss: 1.7022 - val_accuracy: 0.8315 - val_loss: 0.8393\n",
            "Epoch 2/11\n",
            "\u001b[1m1500/1500\u001b[0m \u001b[32m━━━━━━━━━━━━━━━━━━━━\u001b[0m\u001b[37m\u001b[0m \u001b[1m3s\u001b[0m 2ms/step - accuracy: 0.8241 - loss: 0.8028 - val_accuracy: 0.8656 - val_loss: 0.6161\n",
            "Epoch 3/11\n",
            "\u001b[1m1500/1500\u001b[0m \u001b[32m━━━━━━━━━━━━━━━━━━━━\u001b[0m\u001b[37m\u001b[0m \u001b[1m4s\u001b[0m 2ms/step - accuracy: 0.8536 - loss: 0.6288 - val_accuracy: 0.8805 - val_loss: 0.5257\n",
            "Epoch 4/11\n",
            "\u001b[1m1500/1500\u001b[0m \u001b[32m━━━━━━━━━━━━━━━━━━━━\u001b[0m\u001b[37m\u001b[0m \u001b[1m5s\u001b[0m 3ms/step - accuracy: 0.8637 - loss: 0.5527 - val_accuracy: 0.8868 - val_loss: 0.4750\n",
            "Epoch 5/11\n",
            "\u001b[1m1500/1500\u001b[0m \u001b[32m━━━━━━━━━━━━━━━━━━━━\u001b[0m\u001b[37m\u001b[0m \u001b[1m4s\u001b[0m 2ms/step - accuracy: 0.8776 - loss: 0.5004 - val_accuracy: 0.8922 - val_loss: 0.4422\n",
            "Epoch 6/11\n",
            "\u001b[1m1500/1500\u001b[0m \u001b[32m━━━━━━━━━━━━━━━━━━━━\u001b[0m\u001b[37m\u001b[0m \u001b[1m5s\u001b[0m 2ms/step - accuracy: 0.8837 - loss: 0.4663 - val_accuracy: 0.8960 - val_loss: 0.4186\n",
            "Epoch 7/11\n",
            "\u001b[1m1500/1500\u001b[0m \u001b[32m━━━━━━━━━━━━━━━━━━━━\u001b[0m\u001b[37m\u001b[0m \u001b[1m7s\u001b[0m 4ms/step - accuracy: 0.8879 - loss: 0.4405 - val_accuracy: 0.8992 - val_loss: 0.4005\n",
            "Epoch 8/11\n",
            "\u001b[1m1500/1500\u001b[0m \u001b[32m━━━━━━━━━━━━━━━━━━━━\u001b[0m\u001b[37m\u001b[0m \u001b[1m4s\u001b[0m 2ms/step - accuracy: 0.8913 - loss: 0.4267 - val_accuracy: 0.9019 - val_loss: 0.3864\n",
            "Epoch 9/11\n",
            "\u001b[1m1500/1500\u001b[0m \u001b[32m━━━━━━━━━━━━━━━━━━━━\u001b[0m\u001b[37m\u001b[0m \u001b[1m3s\u001b[0m 2ms/step - accuracy: 0.8927 - loss: 0.4148 - val_accuracy: 0.9049 - val_loss: 0.3746\n",
            "Epoch 10/11\n",
            "\u001b[1m1500/1500\u001b[0m \u001b[32m━━━━━━━━━━━━━━━━━━━━\u001b[0m\u001b[37m\u001b[0m \u001b[1m6s\u001b[0m 3ms/step - accuracy: 0.8964 - loss: 0.3975 - val_accuracy: 0.9062 - val_loss: 0.3648\n",
            "Epoch 11/11\n",
            "\u001b[1m1500/1500\u001b[0m \u001b[32m━━━━━━━━━━━━━━━━━━━━\u001b[0m\u001b[37m\u001b[0m \u001b[1m4s\u001b[0m 2ms/step - accuracy: 0.8978 - loss: 0.3927 - val_accuracy: 0.9074 - val_loss: 0.3564\n"
          ]
        }
      ]
    },
    {
      "cell_type": "code",
      "source": [
        "print(f\"AdaGrad optimizer accuracy: {accuracy:.4f}\")"
      ],
      "metadata": {
        "colab": {
          "base_uri": "https://localhost:8080/"
        },
        "id": "U7f2cgy8c7LA",
        "outputId": "71b47c46-8545-4e7c-e949-9ef1319fcc5b"
      },
      "execution_count": null,
      "outputs": [
        {
          "output_type": "stream",
          "name": "stdout",
          "text": [
            "AdaGrad optimizer accuracy: 0.9082\n"
          ]
        }
      ]
    },
    {
      "cell_type": "markdown",
      "source": [
        "## Adam (Adaptive Moment Estimation)"
      ],
      "metadata": {
        "id": "haZGWIspc9Wz"
      }
    },
    {
      "cell_type": "code",
      "source": [
        "model = Sequential()\n",
        "model.add(Dense(units=64, activation='relu', input_shape=(28*28,)))\n",
        "model.add(Dense(units=10, activation='softmax'))\n",
        "model.compile(optimizer=Adam(), loss='categorical_crossentropy', metrics=['accuracy'])"
      ],
      "metadata": {
        "id": "iyx4RagZdDAA"
      },
      "execution_count": null,
      "outputs": []
    },
    {
      "cell_type": "code",
      "source": [
        "history = model.fit(X_train, y_train, epochs=11 , validation_split=0.2, verbose=1)\n",
        "loss, accuracy = model.evaluate(X_test, y_test, verbose=0)"
      ],
      "metadata": {
        "colab": {
          "base_uri": "https://localhost:8080/"
        },
        "id": "IXX8eYp6dE8h",
        "outputId": "e14afc34-0df9-4c7d-e5bb-85f2f6fc9b69"
      },
      "execution_count": null,
      "outputs": [
        {
          "output_type": "stream",
          "name": "stdout",
          "text": [
            "Epoch 1/11\n",
            "\u001b[1m1500/1500\u001b[0m \u001b[32m━━━━━━━━━━━━━━━━━━━━\u001b[0m\u001b[37m\u001b[0m \u001b[1m6s\u001b[0m 3ms/step - accuracy: 0.8460 - loss: 0.5527 - val_accuracy: 0.9463 - val_loss: 0.1919\n",
            "Epoch 2/11\n",
            "\u001b[1m1500/1500\u001b[0m \u001b[32m━━━━━━━━━━━━━━━━━━━━\u001b[0m\u001b[37m\u001b[0m \u001b[1m5s\u001b[0m 3ms/step - accuracy: 0.9482 - loss: 0.1807 - val_accuracy: 0.9578 - val_loss: 0.1439\n",
            "Epoch 3/11\n",
            "\u001b[1m1500/1500\u001b[0m \u001b[32m━━━━━━━━━━━━━━━━━━━━\u001b[0m\u001b[37m\u001b[0m \u001b[1m5s\u001b[0m 4ms/step - accuracy: 0.9634 - loss: 0.1291 - val_accuracy: 0.9620 - val_loss: 0.1313\n",
            "Epoch 4/11\n",
            "\u001b[1m1500/1500\u001b[0m \u001b[32m━━━━━━━━━━━━━━━━━━━━\u001b[0m\u001b[37m\u001b[0m \u001b[1m6s\u001b[0m 4ms/step - accuracy: 0.9764 - loss: 0.0790 - val_accuracy: 0.9674 - val_loss: 0.1066\n",
            "Epoch 6/11\n",
            "\u001b[1m1500/1500\u001b[0m \u001b[32m━━━━━━━━━━━━━━━━━━━━\u001b[0m\u001b[37m\u001b[0m \u001b[1m8s\u001b[0m 2ms/step - accuracy: 0.9798 - loss: 0.0674 - val_accuracy: 0.9697 - val_loss: 0.1042\n",
            "Epoch 7/11\n",
            "\u001b[1m1500/1500\u001b[0m \u001b[32m━━━━━━━━━━━━━━━━━━━━\u001b[0m\u001b[37m\u001b[0m \u001b[1m6s\u001b[0m 3ms/step - accuracy: 0.9839 - loss: 0.0529 - val_accuracy: 0.9703 - val_loss: 0.1025\n",
            "Epoch 8/11\n",
            "\u001b[1m1500/1500\u001b[0m \u001b[32m━━━━━━━━━━━━━━━━━━━━\u001b[0m\u001b[37m\u001b[0m \u001b[1m4s\u001b[0m 3ms/step - accuracy: 0.9871 - loss: 0.0415 - val_accuracy: 0.9657 - val_loss: 0.1205\n",
            "Epoch 9/11\n",
            "\u001b[1m1500/1500\u001b[0m \u001b[32m━━━━━━━━━━━━━━━━━━━━\u001b[0m\u001b[37m\u001b[0m \u001b[1m4s\u001b[0m 3ms/step - accuracy: 0.9884 - loss: 0.0399 - val_accuracy: 0.9704 - val_loss: 0.1015\n",
            "Epoch 10/11\n",
            "\u001b[1m1500/1500\u001b[0m \u001b[32m━━━━━━━━━━━━━━━━━━━━\u001b[0m\u001b[37m\u001b[0m \u001b[1m6s\u001b[0m 3ms/step - accuracy: 0.9898 - loss: 0.0334 - val_accuracy: 0.9711 - val_loss: 0.1064\n",
            "Epoch 11/11\n",
            "\u001b[1m1500/1500\u001b[0m \u001b[32m━━━━━━━━━━━━━━━━━━━━\u001b[0m\u001b[37m\u001b[0m \u001b[1m4s\u001b[0m 2ms/step - accuracy: 0.9920 - loss: 0.0293 - val_accuracy: 0.9718 - val_loss: 0.1045\n"
          ]
        }
      ]
    },
    {
      "cell_type": "code",
      "source": [
        "print(f\"Adam optimizer accuracy: {accuracy:.4f}\")"
      ],
      "metadata": {
        "colab": {
          "base_uri": "https://localhost:8080/"
        },
        "id": "5Jofi6LgdI4I",
        "outputId": "df13c5f1-5598-42f9-9f2a-1a1f84eec6ca"
      },
      "execution_count": null,
      "outputs": [
        {
          "output_type": "stream",
          "name": "stdout",
          "text": [
            "Adam optimizer accuracy: 0.9750\n"
          ]
        }
      ]
    }
  ]
}